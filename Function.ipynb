{
 "cells": [
  {
   "cell_type": "code",
   "execution_count": null,
   "metadata": {},
   "outputs": [],
   "source": [
    "def square_no(sq):\n",
    "    sq**2\n",
    "    print(sq)\n",
    "    return\n",
    "square_no(2**2)\n"
   ]
  },
  {
   "cell_type": "code",
   "execution_count": null,
   "metadata": {},
   "outputs": [],
   "source": [
    "def print_fun(para):\n",
    "    print(para)\n",
    "    return"
   ]
  },
  {
   "cell_type": "code",
   "execution_count": null,
   "metadata": {},
   "outputs": [],
   "source": [
    "print_fun(\"Iam instructor!!\")"
   ]
  },
  {
   "cell_type": "code",
   "execution_count": null,
   "metadata": {},
   "outputs": [],
   "source": [
    "# Function Defined\n",
    "def funname(myPara):\n",
    "    \"I tought data science with python in Broadway infosys\"\n",
    "    mypara.append([1,2,3,4,5]);\n",
    "    print('This is my function output:',myPara)\n",
    "    return\n",
    "\n",
    "# Calling funname function\n",
    "mypara=[10,20,30,40,50];\n",
    "funname(mypara);"
   ]
  },
  {
   "cell_type": "markdown",
   "metadata": {},
   "source": [
    "Function Arguments\n",
    "1.  Required arguments\n",
    "2.  Keyword arguments"
   ]
  },
  {
   "cell_type": "code",
   "execution_count": null,
   "metadata": {},
   "outputs": [],
   "source": [
    "#keyword argument Example:\n",
    "def funname1(para1):\n",
    "    \"THis is keyword arguments.\"\n",
    "    print(para1)\n",
    "    return\n",
    "\n",
    "funname1(para1=\"keyword\")\n",
    "\n"
   ]
  },
  {
   "cell_type": "code",
   "execution_count": null,
   "metadata": {},
   "outputs": [],
   "source": [
    "def multi_fun(name,add,age):\n",
    "    \"This will print name, add, and age.\"\n",
    "    print('Name:',name)\n",
    "    print(\"Address:\",add)\n",
    "    print('Age:',age)\n",
    "    return;\n",
    "\n",
    "#Calling function:\n",
    "multi_fun(age=35,name=\"Python data science\",add='Broadway infosys')\n"
   ]
  },
  {
   "cell_type": "code",
   "execution_count": null,
   "metadata": {},
   "outputs": [],
   "source": [
    "def default_argument(name='Broadway infosys', age=55, add='Bagamati'):\n",
    "    \"This will see default  argument\"\n",
    "    print(\"Name:\",name, 'Age:',age,'Address:', add)\n",
    "    \n",
    "\n",
    "# Now I will call function\n",
    "default_argument(age=35,add=\"Kathmandu\",name='Broadway')#If parameters are defined\n",
    "default_argument() # If rest of parameters are not defined it will automatically assign the default values from parameter\n",
    "\n",
    "    \n"
   ]
  },
  {
   "cell_type": "markdown",
   "metadata": {},
   "source": [
    "Variable-Length arguments:\n",
    "We need to process a function for more arguments than we specified while defining function, in that period the used arguments are called Variable-Length arguments."
   ]
  },
  {
   "cell_type": "code",
   "execution_count": null,
   "metadata": {},
   "outputs": [],
   "source": [
    "#Variable length arguments\n",
    "def funnam(arg1, *vartuple):\n",
    "    \"This will print variable passed arguments\"\n",
    "    print(\"Output is:\")\n",
    "    print(arg1)\n",
    "    for i in vartuple:\n",
    "        print(i)\n",
    "    return\n",
    "#Now call the function\n",
    "funnam(10)\n",
    "funnam(10,20,30)"
   ]
  }
 ],
 "metadata": {
  "kernelspec": {
   "display_name": "Python 3.9.7 64-bit",
   "language": "python",
   "name": "python3"
  },
  "language_info": {
   "codemirror_mode": {
    "name": "ipython",
    "version": 3
   },
   "file_extension": ".py",
   "mimetype": "text/x-python",
   "name": "python",
   "nbconvert_exporter": "python",
   "pygments_lexer": "ipython3",
   "version": "3.9.7"
  },
  "orig_nbformat": 4,
  "vscode": {
   "interpreter": {
    "hash": "756e863eeeb9c1b47e83a7498fd571ef05ca7478dffac8adba6f571b360c2b50"
   }
  }
 },
 "nbformat": 4,
 "nbformat_minor": 2
}

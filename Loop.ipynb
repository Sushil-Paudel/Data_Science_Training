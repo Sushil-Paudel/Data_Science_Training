{
 "cells": [
  {
   "cell_type": "markdown",
   "metadata": {},
   "source": [
    "Python has mainly two loops\n",
    "1.  For loop\n",
    "2.  While loop"
   ]
  },
  {
   "cell_type": "code",
   "execution_count": 6,
   "metadata": {},
   "outputs": [
    {
     "name": "stdout",
     "output_type": "stream",
     "text": [
      "2\n",
      "3\n",
      "4\n",
      "5\n",
      "6\n"
     ]
    }
   ],
   "source": [
    "#While loop\n",
    "a=2\n",
    "while a<=6:\n",
    "    print(a)\n",
    "    a +=1 #a=a+1\n",
    "    "
   ]
  },
  {
   "cell_type": "code",
   "execution_count": 7,
   "metadata": {},
   "outputs": [
    {
     "name": "stdout",
     "output_type": "stream",
     "text": [
      "2\n",
      "3\n",
      "4\n",
      "5\n",
      "6\n"
     ]
    }
   ],
   "source": [
    "#For loop\n",
    "for i in range(2,7,1):\n",
    "    print(i)"
   ]
  },
  {
   "cell_type": "code",
   "execution_count": 11,
   "metadata": {},
   "outputs": [
    {
     "name": "stdout",
     "output_type": "stream",
     "text": [
      "['apple', 'banana'] [12.0, 23.0] [122.0, 234.0] [2.0, 3.0]\n"
     ]
    }
   ],
   "source": [
    "#For loop\n",
    "item=[]\n",
    "quan=[]\n",
    "price=[]\n",
    "dis=[]\n",
    "\n",
    "r=int(input(\"How many items are you want to calculate?\"))\n",
    "for i in range(1,r+1): #(start, stop, step(optional))\n",
    "    a=str(input('Enter item name:-'))\n",
    "    b=float(input('Enter item quantity:-'))\n",
    "    c=float(input('Enter item price:-'))\n",
    "    d=float(input('Enter item discount:-'))\n",
    "#Appending input values in defined list\n",
    "    item.append(a)\n",
    "    quan.append(b)\n",
    "    price.append(c)\n",
    "    dis.append(d)\n",
    "print(item, quan, price, dis)\n",
    "#Arithmetic operation with list\n",
    "total_price=(quan*price)\n",
    "final_price=(total_price-(dis*total_price/100))  \n",
    "GrandTotal=(final_price+(final_price*0.13))  "
   ]
  },
  {
   "cell_type": "code",
   "execution_count": 3,
   "metadata": {},
   "outputs": [
    {
     "ename": "NameError",
     "evalue": "name 'b' is not defined",
     "output_type": "error",
     "traceback": [
      "\u001b[1;31m---------------------------------------------------------------------------\u001b[0m",
      "\u001b[1;31mNameError\u001b[0m                                 Traceback (most recent call last)",
      "\u001b[1;32md:\\Broadway\\Data Science with Python\\Scripts\\Loop.ipynb Cell 5'\u001b[0m in \u001b[0;36m<cell line: 2>\u001b[1;34m()\u001b[0m\n\u001b[0;32m      <a href='vscode-notebook-cell:/d%3A/Broadway/Data%20Science%20with%20Python/Scripts/Loop.ipynb#ch0000004?line=0'>1</a>\u001b[0m \u001b[39m#Break and Continue\u001b[39;00m\n\u001b[1;32m----> <a href='vscode-notebook-cell:/d%3A/Broadway/Data%20Science%20with%20Python/Scripts/Loop.ipynb#ch0000004?line=1'>2</a>\u001b[0m \u001b[39mprint\u001b[39m(b)\n",
      "\u001b[1;31mNameError\u001b[0m: name 'b' is not defined"
     ]
    }
   ],
   "source": [
    "#Break and Continue\n",
    "# print(b)"
   ]
  },
  {
   "cell_type": "code",
   "execution_count": 4,
   "metadata": {},
   "outputs": [
    {
     "name": "stdout",
     "output_type": "stream",
     "text": [
      "Variable not set\n"
     ]
    }
   ],
   "source": [
    "try:\n",
    "    print(b)\n",
    "except:\n",
    "    print(\"Variable not set\")"
   ]
  },
  {
   "cell_type": "code",
   "execution_count": 12,
   "metadata": {},
   "outputs": [
    {
     "name": "stdout",
     "output_type": "stream",
     "text": [
      "I dont know\n"
     ]
    }
   ],
   "source": [
    "try:\n",
    "    b=3\n",
    "    print(b/0)\n",
    "except NameError:\n",
    "    print(\"variable is not defined\")\n",
    "except:\n",
    "    print(\"I dont know\")"
   ]
  },
  {
   "cell_type": "code",
   "execution_count": 28,
   "metadata": {},
   "outputs": [
    {
     "name": "stdout",
     "output_type": "stream",
     "text": [
      "1.0\n",
      "Name Error is not present in code\n"
     ]
    }
   ],
   "source": [
    "try:\n",
    "    b=3\n",
    "    print(b/3)\n",
    "except NameError:\n",
    "    print(\"variable is not defined\")\n",
    "except:\n",
    "    print(\"I dont know\")\n",
    "else:\n",
    "    print(\"Name Error is not present in code\")"
   ]
  },
  {
   "cell_type": "code",
   "execution_count": 29,
   "metadata": {},
   "outputs": [
    {
     "name": "stdout",
     "output_type": "stream",
     "text": [
      "I dont know\n",
      "we are done\n"
     ]
    }
   ],
   "source": [
    "#Finally\n",
    "try:\n",
    "    b=3\n",
    "    print(b/0)\n",
    "except NameError:\n",
    "    print(\"variable is not defined\")\n",
    "except:\n",
    "    print(\"I dont know\")\n",
    "else:\n",
    "    print(\"we use else\")\n",
    "finally:\n",
    "    print(\"we are done\")\n",
    "    \n"
   ]
  },
  {
   "cell_type": "code",
   "execution_count": 34,
   "metadata": {},
   "outputs": [
    {
     "ename": "Exception",
     "evalue": "It is less than 0",
     "output_type": "error",
     "traceback": [
      "\u001b[1;31m---------------------------------------------------------------------------\u001b[0m",
      "\u001b[1;31mException\u001b[0m                                 Traceback (most recent call last)",
      "\u001b[1;32md:\\Broadway\\Data Science with Python\\Scripts\\Loop.ipynb Cell 10'\u001b[0m in \u001b[0;36m<cell line: 3>\u001b[1;34m()\u001b[0m\n\u001b[0;32m      <a href='vscode-notebook-cell:/d%3A/Broadway/Data%20Science%20with%20Python/Scripts/Loop.ipynb#ch0000009?line=1'>2</a>\u001b[0m c\u001b[39m=\u001b[39m\u001b[39m-\u001b[39m\u001b[39m1\u001b[39m\n\u001b[0;32m      <a href='vscode-notebook-cell:/d%3A/Broadway/Data%20Science%20with%20Python/Scripts/Loop.ipynb#ch0000009?line=2'>3</a>\u001b[0m \u001b[39mif\u001b[39;00m c\u001b[39m<\u001b[39m\u001b[39m0\u001b[39m:\n\u001b[1;32m----> <a href='vscode-notebook-cell:/d%3A/Broadway/Data%20Science%20with%20Python/Scripts/Loop.ipynb#ch0000009?line=3'>4</a>\u001b[0m     \u001b[39mraise\u001b[39;00m \u001b[39mException\u001b[39;00m(\u001b[39m\"\u001b[39m\u001b[39mIt is less than 0\u001b[39m\u001b[39m\"\u001b[39m)\n\u001b[0;32m      <a href='vscode-notebook-cell:/d%3A/Broadway/Data%20Science%20with%20Python/Scripts/Loop.ipynb#ch0000009?line=4'>5</a>\u001b[0m \u001b[39mprint\u001b[39m(c)\n",
      "\u001b[1;31mException\u001b[0m: It is less than 0"
     ]
    }
   ],
   "source": [
    "#Raise an Exception \n",
    "c=-1\n",
    "if c<0:\n",
    "    raise Exception(\"It is less than 0\")\n",
    "print(c)"
   ]
  },
  {
   "cell_type": "code",
   "execution_count": 40,
   "metadata": {},
   "outputs": [
    {
     "ename": "TypeError",
     "evalue": "Type of variable only supports string",
     "output_type": "error",
     "traceback": [
      "\u001b[1;31m---------------------------------------------------------------------------\u001b[0m",
      "\u001b[1;31mTypeError\u001b[0m                                 Traceback (most recent call last)",
      "\u001b[1;32md:\\Broadway\\Data Science with Python\\Scripts\\Loop.ipynb Cell 11'\u001b[0m in \u001b[0;36m<cell line: 3>\u001b[1;34m()\u001b[0m\n\u001b[0;32m      <a href='vscode-notebook-cell:/d%3A/Broadway/Data%20Science%20with%20Python/Scripts/Loop.ipynb#ch0000010?line=1'>2</a>\u001b[0m c\u001b[39m=\u001b[39m\u001b[39m-\u001b[39m\u001b[39m1\u001b[39m\n\u001b[0;32m      <a href='vscode-notebook-cell:/d%3A/Broadway/Data%20Science%20with%20Python/Scripts/Loop.ipynb#ch0000010?line=2'>3</a>\u001b[0m \u001b[39mif\u001b[39;00m \u001b[39mnot\u001b[39;00m \u001b[39mtype\u001b[39m(c) \u001b[39mis\u001b[39;00m \u001b[39mstr\u001b[39m:\n\u001b[1;32m----> <a href='vscode-notebook-cell:/d%3A/Broadway/Data%20Science%20with%20Python/Scripts/Loop.ipynb#ch0000010?line=3'>4</a>\u001b[0m     \u001b[39mraise\u001b[39;00m \u001b[39mTypeError\u001b[39;00m(\u001b[39m\"\u001b[39m\u001b[39mType of variable only supports string\u001b[39m\u001b[39m\"\u001b[39m)\n\u001b[0;32m      <a href='vscode-notebook-cell:/d%3A/Broadway/Data%20Science%20with%20Python/Scripts/Loop.ipynb#ch0000010?line=4'>5</a>\u001b[0m \u001b[39mprint\u001b[39m(c)\n",
      "\u001b[1;31mTypeError\u001b[0m: Type of variable only supports string"
     ]
    }
   ],
   "source": [
    "#Type Error\n",
    "c=-1\n",
    "if not type(c) is str:\n",
    "    raise TypeError(\"Type of variable only supports string\")\n",
    "print(c)"
   ]
  },
  {
   "cell_type": "markdown",
   "metadata": {},
   "source": [
    "Loop Type\n",
    "1.  While Loop\n",
    "2.  For loop\n",
    "3.  Nested Loop\n",
    "\n",
    "Control statement\n",
    "1.  Break Statement\n",
    "2.  Continue Statement\n",
    "3. Pass Statement"
   ]
  },
  {
   "cell_type": "code",
   "execution_count": null,
   "metadata": {},
   "outputs": [],
   "source": []
  }
 ],
 "metadata": {
  "kernelspec": {
   "display_name": "Python 3.9.7 64-bit",
   "language": "python",
   "name": "python3"
  },
  "language_info": {
   "codemirror_mode": {
    "name": "ipython",
    "version": 3
   },
   "file_extension": ".py",
   "mimetype": "text/x-python",
   "name": "python",
   "nbconvert_exporter": "python",
   "pygments_lexer": "ipython3",
   "version": "3.9.7"
  },
  "orig_nbformat": 4,
  "vscode": {
   "interpreter": {
    "hash": "756e863eeeb9c1b47e83a7498fd571ef05ca7478dffac8adba6f571b360c2b50"
   }
  }
 },
 "nbformat": 4,
 "nbformat_minor": 2
}

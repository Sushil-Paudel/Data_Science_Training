{
 "cells": [
  {
   "cell_type": "markdown",
   "metadata": {},
   "source": [
    "<h1> Python Operator</h1>\n",
    "\n",
    "<p> Python Operators are specialised symbols that used to perform operations in variables or values.</p>"
   ]
  },
  {
   "cell_type": "markdown",
   "metadata": {},
   "source": [
    "<h3>Arithmetic Operator</h3>\n",
    "<p>It performs Mathematical computation.</p><br>\n",
    "1.  Addition:-\n",
    "    x+y<br>\n",
    "2.  Subtraction:-\n",
    "    x-y<br>\n",
    "3.  Multiplication:-\n",
    "    x*y<br>\n",
    "4.  Division:-\n",
    "    x/y<br>\n",
    "5.  Integer Division(Right operand):-\n",
    "    x//y<br>\n",
    "6.  Modulus (Remainder):-\n",
    "    x%y<br>\n",
    "7.  Exponent (Power of 2):-\n",
    "    x**2<br>\n"
   ]
  },
  {
   "cell_type": "code",
   "execution_count": 60,
   "metadata": {},
   "outputs": [],
   "source": [
    "x=10\n",
    "y=2\n",
    "\n"
   ]
  },
  {
   "cell_type": "code",
   "execution_count": 30,
   "metadata": {},
   "outputs": [
    {
     "data": {
      "text/plain": [
       "100"
      ]
     },
     "execution_count": 30,
     "metadata": {},
     "output_type": "execute_result"
    }
   ],
   "source": [
    "x+y\n",
    "x-y\n",
    "x*y\n",
    "x/y\n",
    "x//y\n",
    "x%y\n",
    "x**2"
   ]
  },
  {
   "cell_type": "markdown",
   "metadata": {},
   "source": [
    "<h3>Assignment Operators:</h3>\n",
    "<p> Used to compare two values.</p>\n",
    "1.  Equal to:-\n",
    "    x==y<br>\n",
    "2.  Not equal to:-\n",
    "    x!=y<br>\n",
    "3.  Greater than:-\n",
    "    x > y<br>\n",
    "4.  Less than:-\n",
    "    x < y <br>\n",
    "5.  Greater or Equal to:-\n",
    "    x>=y<br>\n",
    "6. Less or Equal to:-\n",
    "    x<=y<br>"
   ]
  },
  {
   "cell_type": "markdown",
   "metadata": {},
   "source": [
    "<h3>Comparision Operators:</h3>\n",
    "<p> Used to compare two values.</p>\n",
    "1.  Equal to:-\n",
    "    x==y<br>\n",
    "2.  Not equal to:-\n",
    "    x!=y<br>\n",
    "3.  Greater than:-\n",
    "    x > y<br>\n",
    "4.  Less than:-\n",
    "    x < y <br>\n",
    "5.  Greater or Equal to:-\n",
    "    x>=y<br>\n",
    "6. Less or Equal to:-\n",
    "    x<=y<br>"
   ]
  },
  {
   "cell_type": "code",
   "execution_count": 53,
   "metadata": {},
   "outputs": [
    {
     "data": {
      "text/plain": [
       "False"
      ]
     },
     "execution_count": 53,
     "metadata": {},
     "output_type": "execute_result"
    }
   ],
   "source": [
    "x==y\n",
    "x!=y\n",
    "x>y\n",
    "x<y\n",
    "x>=y\n",
    "x<=y\n"
   ]
  },
  {
   "cell_type": "markdown",
   "metadata": {},
   "source": [
    "<h3>Logical Operators:</h3>\n",
    "<p> Operates on Boolean values and return a Boolean Values and mainly used to combine statement.</p>\n",
    "1.  AND:-  (True if both the operands are true)\n",
    "    x AND y<br>\n",
    "2.  OR:-  (True if either or the operands are true)\n",
    "    x OR y<br>\n",
    "3.  NOT:-  (Boolean compliment of the operand)\n",
    "    x NOT y<br>\n"
   ]
  },
  {
   "cell_type": "code",
   "execution_count": 66,
   "metadata": {},
   "outputs": [
    {
     "data": {
      "text/plain": [
       "False"
      ]
     },
     "execution_count": 66,
     "metadata": {},
     "output_type": "execute_result"
    }
   ],
   "source": [
    "x and y\n",
    "x or y\n",
    "not x"
   ]
  },
  {
   "cell_type": "markdown",
   "metadata": {},
   "source": [
    "<h3>Identity Operators:</h3>\n",
    "<p> Used to compare operands based on the memory location they refer to.</p>\n",
    "1.  IS :- (True if two operands refer to the same  memory location)\n",
    "    x IS y<br>\n",
    "2.  IS NOT :-  (True if two operands do not refer to same memory location)\n",
    "    x IS NOT y<br>\n"
   ]
  },
  {
   "cell_type": "code",
   "execution_count": 68,
   "metadata": {},
   "outputs": [
    {
     "data": {
      "text/plain": [
       "True"
      ]
     },
     "execution_count": 68,
     "metadata": {},
     "output_type": "execute_result"
    }
   ],
   "source": [
    "x is y\n",
    "x is not y"
   ]
  },
  {
   "cell_type": "markdown",
   "metadata": {},
   "source": [
    "<h3>Membership Operators:</h3>\n",
    "<p> </p>\n",
    "1.  IN :- (Evaluates to true if it finds a variable in the specified sequence and false otherwise.)\n",
    "    x IN y<br>\n",
    "2.  not in :- (Evaluates to true if it does not finds a variable in the specified sequence and false otherwise.)\n",
    "    x not in y<br>\n"
   ]
  },
  {
   "cell_type": "code",
   "execution_count": 70,
   "metadata": {},
   "outputs": [],
   "source": [
    "# x in y"
   ]
  },
  {
   "cell_type": "markdown",
   "metadata": {},
   "source": [
    "<h3>Bitwise Operators:</h3>\n",
    "<p> </p>\n",
    "1.  IN :- (Ture if a sequence with)\n",
    "    x IN y<br>"
   ]
  },
  {
   "cell_type": "markdown",
   "metadata": {},
   "source": []
  }
 ],
 "metadata": {
  "interpreter": {
   "hash": "756e863eeeb9c1b47e83a7498fd571ef05ca7478dffac8adba6f571b360c2b50"
  },
  "kernelspec": {
   "display_name": "Python 3.9.7 64-bit",
   "language": "python",
   "name": "python3"
  },
  "language_info": {
   "codemirror_mode": {
    "name": "ipython",
    "version": 3
   },
   "file_extension": ".py",
   "mimetype": "text/x-python",
   "name": "python",
   "nbconvert_exporter": "python",
   "pygments_lexer": "ipython3",
   "version": "3.9.7"
  },
  "orig_nbformat": 4
 },
 "nbformat": 4,
 "nbformat_minor": 2
}

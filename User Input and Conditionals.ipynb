{
 "cells": [
  {
   "cell_type": "markdown",
   "metadata": {},
   "source": [
    "How to ask input variable from clients sides.\n",
    "For this task use input() inbuild-function of Python."
   ]
  },
  {
   "cell_type": "code",
   "execution_count": 4,
   "metadata": {},
   "outputs": [
    {
     "name": "stdout",
     "output_type": "stream",
     "text": [
      "Sushil Paudel \n",
      " Kathmandu\n"
     ]
    }
   ],
   "source": [
    "a=\"cars\"\n",
    "b=input('Enter your Full Name:-')\n",
    "c=input('Enter your Address:-')\n",
    "print(b,'\\n',c)"
   ]
  },
  {
   "cell_type": "markdown",
   "metadata": {},
   "source": [
    "Data type converting while getting input values. "
   ]
  },
  {
   "cell_type": "code",
   "execution_count": 5,
   "metadata": {},
   "outputs": [],
   "source": [
    "a=int(input('Enter the number:'))\n",
    "b=float(input('Enter the number'))\n",
    "c=str(input('Enter the Name:'))"
   ]
  },
  {
   "cell_type": "markdown",
   "metadata": {},
   "source": []
  },
  {
   "cell_type": "code",
   "execution_count": 2,
   "metadata": {},
   "outputs": [
    {
     "name": "stdout",
     "output_type": "stream",
     "text": [
      "----------------------------------------------------------------------------------------------------\n",
      "\t\t\t\t   \n",
      "\t\t\t\t   \n",
      "\t\t\t\t    \n",
      "----------------------------------------------------------------------------------------------------\n",
      "----------------------------------------------------------------------------------------------------\n"
     ]
    }
   ],
   "source": [
    "smn=input('name of supermaket')\n",
    "sma=input('address odf supermarket')\n",
    "fy=input('Enter the fiscal year')\n",
    "print(100*'-')\n",
    "print(f'\\t\\t\\t\\t   {smn}')\n",
    "print(f'\\t\\t\\t\\t   {sma}')\n",
    "print(f'\\t\\t\\t\\t    {fy}')\n",
    "print(100*'-')\n",
    "# items=[\"potato\",'Tomato','zomato','Perfume',\"Diary\"]\n",
    "# item_price=[23,45,65,76,87]\n",
    "# item_quantity=[5,4,6,4,5]\n",
    "# total_price=[item_price*item_quantity]\n",
    "# discount=['get it from input']\n",
    "# discount_price=[total_price*discount]\n",
    "# final_amount=[total_price-discount_price]\n",
    "# # vat=[final_amount*13%]\n",
    "# Grand_total=[final_amount+vat]\n",
    "print(100*'-')\n"
   ]
  },
  {
   "cell_type": "markdown",
   "metadata": {},
   "source": [
    "<h2> Conditional Statements</h2>"
   ]
  },
  {
   "cell_type": "markdown",
   "metadata": {},
   "source": [
    "<h3>python if statement</h3>\n",
    "Execute a block of statements based on the condtions."
   ]
  },
  {
   "cell_type": "code",
   "execution_count": 9,
   "metadata": {},
   "outputs": [
    {
     "ename": "ValueError",
     "evalue": "invalid literal for int() with base 10: ''",
     "output_type": "error",
     "traceback": [
      "\u001b[1;31m---------------------------------------------------------------------------\u001b[0m",
      "\u001b[1;31mValueError\u001b[0m                                Traceback (most recent call last)",
      "\u001b[1;32md:\\Broadway\\Data Science with Python\\Scripts\\User Input and Conditionals.ipynb Cell 9'\u001b[0m in \u001b[0;36m<cell line: 2>\u001b[1;34m()\u001b[0m\n\u001b[0;32m      <a href='vscode-notebook-cell:/d%3A/Broadway/Data%20Science%20with%20Python/Scripts/User%20Input%20and%20Conditionals.ipynb#ch0000010?line=0'>1</a>\u001b[0m \u001b[39m# If Examples:\u001b[39;00m\n\u001b[1;32m----> <a href='vscode-notebook-cell:/d%3A/Broadway/Data%20Science%20with%20Python/Scripts/User%20Input%20and%20Conditionals.ipynb#ch0000010?line=1'>2</a>\u001b[0m x\u001b[39m=\u001b[39m\u001b[39mint\u001b[39;49m(\u001b[39minput\u001b[39;49m(\u001b[39m'\u001b[39;49m\u001b[39mEnter your number:-\u001b[39;49m\u001b[39m'\u001b[39;49m))\n\u001b[0;32m      <a href='vscode-notebook-cell:/d%3A/Broadway/Data%20Science%20with%20Python/Scripts/User%20Input%20and%20Conditionals.ipynb#ch0000010?line=2'>3</a>\u001b[0m \u001b[39mif\u001b[39;00m x\u001b[39m>\u001b[39m\u001b[39m2\u001b[39m:\n\u001b[0;32m      <a href='vscode-notebook-cell:/d%3A/Broadway/Data%20Science%20with%20Python/Scripts/User%20Input%20and%20Conditionals.ipynb#ch0000010?line=3'>4</a>\u001b[0m     \u001b[39mprint\u001b[39m(\u001b[39mf\u001b[39m\u001b[39m'\u001b[39m\u001b[39myour input number is \u001b[39m\u001b[39m{\u001b[39;00mx\u001b[39m}\u001b[39;00m\u001b[39m which is greater than 2.\u001b[39m\u001b[39m'\u001b[39m)\n",
      "\u001b[1;31mValueError\u001b[0m: invalid literal for int() with base 10: ''"
     ]
    }
   ],
   "source": [
    "# If Examples:\n",
    "x=int(input('Enter your number:-'))\n",
    "if x>2:\n",
    "    print(f'your input number is {x} which is greater than 2.')"
   ]
  },
  {
   "cell_type": "code",
   "execution_count": 11,
   "metadata": {},
   "outputs": [
    {
     "name": "stdout",
     "output_type": "stream",
     "text": [
      "4is greater than 3.\n"
     ]
    }
   ],
   "source": [
    "# Example2:-  Compare two number \\ using input, converting to defined data type and conditions\n",
    "x=int(input(\"Enter x number:-\"))\n",
    "y=int(input(\"Enter y number:-\"))\n",
    "# comparing between x and y is greater no.\n",
    "if x>y:\n",
    "    print(f'{x} is greater than {y}.')\n",
    "else:\n",
    "    print(f'{x} is smaller than {y}.')\n",
    "\n"
   ]
  },
  {
   "cell_type": "code",
   "execution_count": 17,
   "metadata": {},
   "outputs": [
    {
     "name": "stdout",
     "output_type": "stream",
     "text": [
      "45 is not equal to 54.\n"
     ]
    }
   ],
   "source": [
    "# Example3:-  \n",
    "x=int(input(\"Enter x number:-\"))\n",
    "y=int(input(\"Enter y number:-\"))\n",
    "# comparing between x and y is greater no.\n",
    "if x!=y:\n",
    "    print(f'{x} is not equal to {y}.')\n",
    "elif x<y: \n",
    "    print(f'{x} is smaller than {y}.')\n",
    "elif x==y:\n",
    "    print(f'{x} is equal to {y}.')\n",
    "elif x!=y:\n",
    "    print(f'{x} is not equal to {y}.')"
   ]
  },
  {
   "cell_type": "code",
   "execution_count": 25,
   "metadata": {},
   "outputs": [
    {
     "name": "stdout",
     "output_type": "stream",
     "text": [
      "1\n",
      "1\n"
     ]
    }
   ],
   "source": [
    "# Example4:- Conditions using AND operator\n",
    "a=6\n",
    "b=7\n",
    "#nested if\n",
    "if a>5:\n",
    "    if b>a:\n",
    "        print(b-a)\n",
    "else:\n",
    "    print('please enter the number equals to 5.')\n",
    "#Using and operator for nested conditions   \n",
    "if a>5 and b>a:\n",
    "    print(b-a)\n",
    "else:\n",
    "    print('please enter the number equals to 5.')"
   ]
  },
  {
   "cell_type": "code",
   "execution_count": 27,
   "metadata": {},
   "outputs": [
    {
     "name": "stdout",
     "output_type": "stream",
     "text": [
      "a is in (7,15)\n"
     ]
    }
   ],
   "source": [
    "#Nested conditions with ELIF:\n",
    "a = 8\n",
    "\n",
    "if a<0:\n",
    "\tprint('a is less than zero.')\n",
    "elif a>0 and a<8:\n",
    "\tprint('a is in (0,8)')\n",
    "elif a>7 and a<15:\n",
    "\tprint('a is in (7,15)')"
   ]
  },
  {
   "cell_type": "code",
   "execution_count": 32,
   "metadata": {},
   "outputs": [
    {
     "name": "stdout",
     "output_type": "stream",
     "text": [
      "Working days\n"
     ]
    }
   ],
   "source": [
    "#Conditions with OR operator\n",
    "today = 'Monday'\n",
    "if today=='Sunday' or today=='Saturday':\n",
    "\tprint('Today is off. Rest at home.')\n",
    "else:\n",
    "    print(\"Working days\")"
   ]
  },
  {
   "cell_type": "code",
   "execution_count": null,
   "metadata": {},
   "outputs": [],
   "source": [
    "# Elif with or operator\n",
    "today = 'Sunday'\n",
    "# today=str(input('Enter today:')\n",
    "if today=='Monday':\n",
    "\tprint('Your weekend is over. Go to work.')\n",
    "elif today=='Sunday' or today=='Saturday':\n",
    "\tprint('Today is off.')\n",
    "else:\n",
    "\tprint('Go to work.')"
   ]
  },
  {
   "cell_type": "code",
   "execution_count": 36,
   "metadata": {},
   "outputs": [
    {
     "name": "stdout",
     "output_type": "stream",
     "text": [
      "['Potato Chips'] [3.0] [250.0] [15.0]\n"
     ]
    }
   ],
   "source": [
    "r=int(input('How many items are you calculating? '))\n",
    "items=[]\n",
    "quan=[]\n",
    "price=[]\n",
    "dis=[]\n",
    "for i in range(r):\n",
    "    a=str(input('Enter item name:-'))\n",
    "    b=float(input('Enter item quantity:-'))\n",
    "    c=float(input('Enter item price:-'))\n",
    "    d=float(input('Enter item discount:-'))\n",
    "    items.append(a)\n",
    "    quan.append(b)\n",
    "    price.append(c)\n",
    "    dis.append(d)\n",
    "print(items, quan, price, dis)    \n",
    "\n"
   ]
  }
 ],
 "metadata": {
  "kernelspec": {
   "display_name": "Python 3.9.7 64-bit",
   "language": "python",
   "name": "python3"
  },
  "language_info": {
   "codemirror_mode": {
    "name": "ipython",
    "version": 3
   },
   "file_extension": ".py",
   "mimetype": "text/x-python",
   "name": "python",
   "nbconvert_exporter": "python",
   "pygments_lexer": "ipython3",
   "version": "3.9.7"
  },
  "orig_nbformat": 4,
  "vscode": {
   "interpreter": {
    "hash": "756e863eeeb9c1b47e83a7498fd571ef05ca7478dffac8adba6f571b360c2b50"
   }
  }
 },
 "nbformat": 4,
 "nbformat_minor": 2
}
